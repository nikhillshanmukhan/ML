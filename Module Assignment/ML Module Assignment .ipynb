{
 "cells": [
  {
   "cell_type": "code",
   "execution_count": 1,
   "id": "ea868b65",
   "metadata": {},
   "outputs": [
    {
     "data": {
      "text/plain": [
       "(   car_ID  symboling                   CarName fueltype aspiration doornumber  \\\n",
       " 0       1          3        alfa-romero giulia      gas        std        two   \n",
       " 1       2          3       alfa-romero stelvio      gas        std        two   \n",
       " 2       3          1  alfa-romero Quadrifoglio      gas        std        two   \n",
       " 3       4          2               audi 100 ls      gas        std       four   \n",
       " 4       5          2                audi 100ls      gas        std       four   \n",
       " \n",
       "        carbody drivewheel enginelocation  wheelbase  ...  enginesize  \\\n",
       " 0  convertible        rwd          front       88.6  ...         130   \n",
       " 1  convertible        rwd          front       88.6  ...         130   \n",
       " 2    hatchback        rwd          front       94.5  ...         152   \n",
       " 3        sedan        fwd          front       99.8  ...         109   \n",
       " 4        sedan        4wd          front       99.4  ...         136   \n",
       " \n",
       "    fuelsystem  boreratio  stroke compressionratio horsepower  peakrpm citympg  \\\n",
       " 0        mpfi       3.47    2.68              9.0        111     5000      21   \n",
       " 1        mpfi       3.47    2.68              9.0        111     5000      21   \n",
       " 2        mpfi       2.68    3.47              9.0        154     5000      19   \n",
       " 3        mpfi       3.19    3.40             10.0        102     5500      24   \n",
       " 4        mpfi       3.19    3.40              8.0        115     5500      18   \n",
       " \n",
       "    highwaympg    price  \n",
       " 0          27  13495.0  \n",
       " 1          27  16500.0  \n",
       " 2          26  16500.0  \n",
       " 3          30  13950.0  \n",
       " 4          22  17450.0  \n",
       " \n",
       " [5 rows x 26 columns],\n",
       " car_ID              0\n",
       " symboling           0\n",
       " CarName             0\n",
       " fueltype            0\n",
       " aspiration          0\n",
       " doornumber          0\n",
       " carbody             0\n",
       " drivewheel          0\n",
       " enginelocation      0\n",
       " wheelbase           0\n",
       " carlength           0\n",
       " carwidth            0\n",
       " carheight           0\n",
       " curbweight          0\n",
       " enginetype          0\n",
       " cylindernumber      0\n",
       " enginesize          0\n",
       " fuelsystem          0\n",
       " boreratio           0\n",
       " stroke              0\n",
       " compressionratio    0\n",
       " horsepower          0\n",
       " peakrpm             0\n",
       " citympg             0\n",
       " highwaympg          0\n",
       " price               0\n",
       " dtype: int64,\n",
       " (164, 51),\n",
       " (41, 51))"
      ]
     },
     "execution_count": 1,
     "metadata": {},
     "output_type": "execute_result"
    }
   ],
   "source": [
    "import pandas as pd\n",
    "from sklearn.model_selection import train_test_split\n",
    "from sklearn.preprocessing import StandardScaler, OneHotEncoder\n",
    "from sklearn.compose import ColumnTransformer\n",
    "from sklearn.pipeline import Pipeline\n",
    "from sklearn.impute import SimpleImputer\n",
    "\n",
    "# Load the dataset\n",
    "file_path = 'CarPrice_Assignment.csv'\n",
    "df = pd.read_csv(file_path)\n",
    "\n",
    "# Preview the dataset\n",
    "preview = df.head()\n",
    "\n",
    "# Check for missing values\n",
    "missing_values = df.isnull().sum()\n",
    "\n",
    "# Separate features and target variable\n",
    "X = df.drop(['price', 'car_ID', 'CarName'], axis=1)\n",
    "y = df['price']\n",
    "\n",
    "# Identify categorical and numerical columns\n",
    "categorical_cols = X.select_dtypes(include=['object']).columns.tolist()\n",
    "numerical_cols = X.select_dtypes(include=['number']).columns.tolist()\n",
    "\n",
    "# Preprocessing for numerical data: impute missing values with median and scale\n",
    "numerical_transformer = Pipeline(steps=[\n",
    "    ('imputer', SimpleImputer(strategy='median')),\n",
    "    ('scaler', StandardScaler())\n",
    "])\n",
    "\n",
    "# Preprocessing for categorical data: impute missing values with most frequent and one-hot encode\n",
    "categorical_transformer = Pipeline(steps=[\n",
    "    ('imputer', SimpleImputer(strategy='most_frequent')),\n",
    "    ('onehot', OneHotEncoder(handle_unknown='ignore'))\n",
    "])\n",
    "\n",
    "# Combine preprocessing steps\n",
    "preprocessor = ColumnTransformer(\n",
    "    transformers=[\n",
    "        ('num', numerical_transformer, numerical_cols),\n",
    "        ('cat', categorical_transformer, categorical_cols)\n",
    "    ])\n",
    "\n",
    "# Split the data into training and testing sets\n",
    "X_train, X_test, y_train, y_test = train_test_split(X, y, test_size=0.2, random_state=42)\n",
    "\n",
    "# Fit and transform the training data\n",
    "X_train_processed = preprocessor.fit_transform(X_train)\n",
    "X_test_processed = preprocessor.transform(X_test)\n",
    "\n",
    "(preview, missing_values, X_train_processed.shape, X_test_processed.shape)"
   ]
  },
  {
   "cell_type": "code",
   "execution_count": 2,
   "id": "7cd9acb0",
   "metadata": {},
   "outputs": [
    {
     "data": {
      "text/plain": [
       "{'Linear Regression': LinearRegression(),\n",
       " 'Decision Tree': DecisionTreeRegressor(random_state=42),\n",
       " 'Random Forest': RandomForestRegressor(random_state=42),\n",
       " 'Gradient Boosting': GradientBoostingRegressor(random_state=42),\n",
       " 'Support Vector Regressor': SVR()}"
      ]
     },
     "execution_count": 2,
     "metadata": {},
     "output_type": "execute_result"
    }
   ],
   "source": [
    "from sklearn.linear_model import LinearRegression\n",
    "from sklearn.tree import DecisionTreeRegressor\n",
    "from sklearn.ensemble import RandomForestRegressor, GradientBoostingRegressor\n",
    "from sklearn.svm import SVR\n",
    "\n",
    "# Initialize models\n",
    "models = {\n",
    "    'Linear Regression': LinearRegression(),\n",
    "    'Decision Tree': DecisionTreeRegressor(random_state=42),\n",
    "    'Random Forest': RandomForestRegressor(random_state=42),\n",
    "    'Gradient Boosting': GradientBoostingRegressor(random_state=42),\n",
    "    'Support Vector Regressor': SVR()\n",
    "}\n",
    "\n",
    "# Train models\n",
    "for name, model in models.items():\n",
    "    model.fit(X_train_processed, y_train)\n",
    "\n",
    "models"
   ]
  },
  {
   "cell_type": "code",
   "execution_count": 3,
   "id": "acb10c4b",
   "metadata": {},
   "outputs": [
    {
     "data": {
      "text/plain": [
       "{'Linear Regression': {'R2': 0.87247536932174,\n",
       "  'MSE': 10067307.106935194,\n",
       "  'MAE': 2244.6017256584537},\n",
       " 'Decision Tree': {'R2': 0.8958288846689278,\n",
       "  'MSE': 8223686.70375339,\n",
       "  'MAE': 1847.4349512195122},\n",
       " 'Random Forest': {'R2': 0.9577276121364623,\n",
       "  'MSE': 3337152.2701321063,\n",
       "  'MAE': 1276.3987520325202},\n",
       " 'Gradient Boosting': {'R2': 0.9266994158974956,\n",
       "  'MSE': 5786642.841879208,\n",
       "  'MAE': 1666.4004125353745},\n",
       " 'Support Vector Regressor': {'R2': -0.09966346645387403,\n",
       "  'MSE': 86811855.65633136,\n",
       "  'MAE': 5694.47171546142}}"
      ]
     },
     "execution_count": 3,
     "metadata": {},
     "output_type": "execute_result"
    }
   ],
   "source": [
    "from sklearn.metrics import r2_score, mean_squared_error, mean_absolute_error\n",
    "\n",
    "# Evaluate models\n",
    "results = {}\n",
    "for name, model in models.items():\n",
    "    y_pred = model.predict(X_test_processed)\n",
    "    r2 = r2_score(y_test, y_pred)\n",
    "    mse = mean_squared_error(y_test, y_pred)\n",
    "    mae = mean_absolute_error(y_test, y_pred)\n",
    "    results[name] = {'R2': r2, 'MSE': mse, 'MAE': mae}\n",
    "\n",
    "results"
   ]
  },
  {
   "cell_type": "code",
   "execution_count": 4,
   "id": "6ffce685",
   "metadata": {},
   "outputs": [
    {
     "data": {
      "text/plain": [
       "(['enginesize', 'curbweight', 'highwaympg', 'horsepower'],\n",
       " [('enginesize', 0.5521616138545801),\n",
       "  ('curbweight', 0.294244881310119),\n",
       "  ('highwaympg', 0.045324870531969104),\n",
       "  ('horsepower', 0.031433980751227546),\n",
       "  ('carwidth', 0.014010365442477296),\n",
       "  ('carlength', 0.008621446759495418),\n",
       "  ('wheelbase', 0.007588822392256461),\n",
       "  ('peakrpm', 0.006911451989804732),\n",
       "  ('citympg', 0.006623670771719535),\n",
       "  ('stroke', 0.004688422270706298)])"
      ]
     },
     "execution_count": 4,
     "metadata": {},
     "output_type": "execute_result"
    }
   ],
   "source": [
    "import numpy as np\n",
    "\n",
    "# Feature importance from Random Forest (best model)\n",
    "feature_names_num = numerical_cols\n",
    "feature_names_cat = preprocessor.named_transformers_['cat']['onehot'].get_feature_names_out(categorical_cols)\n",
    "feature_names = np.concatenate([feature_names_num, feature_names_cat])\n",
    "\n",
    "rf_model = models['Random Forest']\n",
    "importances = rf_model.feature_importances_\n",
    "\n",
    "# Create a sorted list of features by importance\n",
    "feature_importance = sorted(zip(feature_names, importances), key=lambda x: x[1], reverse=True)\n",
    "\n",
    "# Select significant features (importance > mean importance)\n",
    "mean_importance = np.mean(importances)\n",
    "significant_features = [f for f, imp in feature_importance if imp > mean_importance]\n",
    "\n",
    "(significant_features, feature_importance[:10])"
   ]
  },
  {
   "cell_type": "code",
   "execution_count": 5,
   "id": "fb71ca87",
   "metadata": {},
   "outputs": [
    {
     "data": {
      "text/plain": [
       "({'bootstrap': True,\n",
       "  'ccp_alpha': 0.0,\n",
       "  'criterion': 'squared_error',\n",
       "  'max_depth': 10,\n",
       "  'max_features': 'auto',\n",
       "  'max_leaf_nodes': None,\n",
       "  'max_samples': None,\n",
       "  'min_impurity_decrease': 0.0,\n",
       "  'min_samples_leaf': 1,\n",
       "  'min_samples_split': 2,\n",
       "  'min_weight_fraction_leaf': 0.0,\n",
       "  'n_estimators': 200,\n",
       "  'n_jobs': None,\n",
       "  'oob_score': False,\n",
       "  'random_state': 42,\n",
       "  'verbose': 0,\n",
       "  'warm_start': False},\n",
       " 0.9587078371836437,\n",
       " 3259769.3635406517,\n",
       " 1247.733904787096)"
      ]
     },
     "execution_count": 5,
     "metadata": {},
     "output_type": "execute_result"
    }
   ],
   "source": [
    "from sklearn.model_selection import GridSearchCV\n",
    "\n",
    "# Hyperparameter tuning for Random Forest Regressor\n",
    "param_grid = {\n",
    "    'n_estimators': [50, 100, 200],\n",
    "    'max_depth': [None, 10, 20, 30],\n",
    "    'min_samples_split': [2, 5, 10],\n",
    "    'min_samples_leaf': [1, 2, 4]\n",
    "}\n",
    "\n",
    "rf = RandomForestRegressor(random_state=42)\n",
    "grid_search = GridSearchCV(estimator=rf, param_grid=param_grid, cv=3, n_jobs=-1, scoring='r2')\n",
    "grid_search.fit(X_train_processed, y_train)\n",
    "\n",
    "best_rf = grid_search.best_estimator_\n",
    "\n",
    "# Evaluate the tuned model\n",
    "y_pred_tuned = best_rf.predict(X_test_processed)\n",
    "r2_tuned = r2_score(y_test, y_pred_tuned)\n",
    "mse_tuned = mean_squared_error(y_test, y_pred_tuned)\n",
    "mae_tuned = mean_absolute_error(y_test, y_pred_tuned)\n",
    "\n",
    "(best_rf.get_params(), r2_tuned, mse_tuned, mae_tuned)"
   ]
  },
  {
   "cell_type": "code",
   "execution_count": 6,
   "id": "78c61b51",
   "metadata": {},
   "outputs": [
    {
     "data": {
      "text/plain": [
       "({'bootstrap': True,\n",
       "  'ccp_alpha': 0.0,\n",
       "  'criterion': 'squared_error',\n",
       "  'max_depth': None,\n",
       "  'max_features': 'auto',\n",
       "  'max_leaf_nodes': None,\n",
       "  'max_samples': None,\n",
       "  'min_impurity_decrease': 0.0,\n",
       "  'min_samples_leaf': 1,\n",
       "  'min_samples_split': 2,\n",
       "  'min_weight_fraction_leaf': 0.0,\n",
       "  'n_estimators': 200,\n",
       "  'n_jobs': None,\n",
       "  'oob_score': False,\n",
       "  'random_state': 42,\n",
       "  'verbose': 0,\n",
       "  'warm_start': False},\n",
       " 0.9584683052266159,\n",
       " 3278678.979357608,\n",
       " 1254.6977619047618)"
      ]
     },
     "execution_count": 6,
     "metadata": {},
     "output_type": "execute_result"
    }
   ],
   "source": [
    "# Due to timeout, reduce the parameter grid for faster tuning\n",
    "param_grid_small = {\n",
    "    'n_estimators': [100, 200],\n",
    "    'max_depth': [None, 20],\n",
    "    'min_samples_split': [2, 5],\n",
    "    'min_samples_leaf': [1, 2]\n",
    "}\n",
    "\n",
    "rf = RandomForestRegressor(random_state=42)\n",
    "grid_search_small = GridSearchCV(estimator=rf, param_grid=param_grid_small, cv=3, n_jobs=-1, scoring='r2')\n",
    "grid_search_small.fit(X_train_processed, y_train)\n",
    "\n",
    "best_rf_small = grid_search_small.best_estimator_\n",
    "\n",
    "# Evaluate the tuned model\n",
    "y_pred_tuned_small = best_rf_small.predict(X_test_processed)\n",
    "r2_tuned_small = r2_score(y_test, y_pred_tuned_small)\n",
    "mse_tuned_small = mean_squared_error(y_test, y_pred_tuned_small)\n",
    "mae_tuned_small = mean_absolute_error(y_test, y_pred_tuned_small)\n",
    "\n",
    "(best_rf_small.get_params(), r2_tuned_small, mse_tuned_small, mae_tuned_small)"
   ]
  }
 ],
 "metadata": {
  "kernelspec": {
   "display_name": "Python 3 (ipykernel)",
   "language": "python",
   "name": "python3"
  },
  "language_info": {
   "codemirror_mode": {
    "name": "ipython",
    "version": 3
   },
   "file_extension": ".py",
   "mimetype": "text/x-python",
   "name": "python",
   "nbconvert_exporter": "python",
   "pygments_lexer": "ipython3",
   "version": "3.9.13"
  }
 },
 "nbformat": 4,
 "nbformat_minor": 5
}
